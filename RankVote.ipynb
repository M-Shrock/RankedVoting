{
  "nbformat": 4,
  "nbformat_minor": 0,
  "metadata": {
    "colab": {
      "name": "RankVote.ipynb",
      "provenance": [],
      "authorship_tag": "ABX9TyM3Lj2476vFT8gcQseGnkGi",
      "include_colab_link": true
    },
    "kernelspec": {
      "name": "python3",
      "display_name": "Python 3"
    }
  },
  "cells": [
    {
      "cell_type": "markdown",
      "metadata": {
        "id": "view-in-github",
        "colab_type": "text"
      },
      "source": [
        "<a href=\"https://colab.research.google.com/github/M-Shrock/RankedVoting/blob/main/RankVote.ipynb\" target=\"_parent\"><img src=\"https://colab.research.google.com/assets/colab-badge.svg\" alt=\"Open In Colab\"/></a>"
      ]
    },
    {
      "cell_type": "code",
      "metadata": {
        "colab": {
          "base_uri": "https://localhost:8080/"
        },
        "id": "C2kxBEFR_2MX",
        "outputId": "76c8d834-d9c9-40ef-9807-7d870ac1bad8"
      },
      "source": [
        "!pip install rcv"
      ],
      "execution_count": 1,
      "outputs": [
        {
          "output_type": "stream",
          "text": [
            "Collecting rcv\n",
            "  Downloading https://files.pythonhosted.org/packages/05/97/968efce3d4d3f4436da576ccd52801e631be96bfe8041adf8ce8491607c1/rcv-0.1.2-py3-none-any.whl\n",
            "Installing collected packages: rcv\n",
            "Successfully installed rcv-0.1.2\n"
          ],
          "name": "stdout"
        }
      ]
    },
    {
      "cell_type": "code",
      "metadata": {
        "colab": {
          "base_uri": "https://localhost:8080/"
        },
        "id": "MSokq4TTF7XP",
        "outputId": "0eb9971c-1968-4437-c9e4-fdbb37a9845d"
      },
      "source": [
        "#authenticate with google, import spread sheet, and create initial DataFrame\n",
        "from google.colab import auth\n",
        "auth.authenticate_user()\n",
        "\n",
        "import gspread\n",
        "from oauth2client.client import GoogleCredentials\n",
        "gc = gspread.authorize(GoogleCredentials.get_application_default())\n",
        "\n",
        "#open spread sheet producet from google form\n",
        "wb = gc.open_by_url('https://docs.google.com/spreadsheets/d/1eueZkL35Z-57CBagal3aWgMMEKyVZSfzJx6UrmfEf9M/edit#gid=1069421963')\n",
        "\n",
        "#get list of all rows in rows\n",
        "wb = wb.worksheet('Form Responses 1')\n",
        "rows = wb.get_all_values()\n",
        "\n",
        "#convert to DataFrame and render\n",
        "import pandas as pd\n",
        "df = pd.DataFrame.from_records(rows)\n",
        "\n",
        "print(df)"
      ],
      "execution_count": 7,
      "outputs": [
        {
          "output_type": "stream",
          "text": [
            "                    0   ...                                                 10\n",
            "0            Timestamp  ...                                Suggestion/Comments\n",
            "1   2/13/2021 14:20:03  ...                                                   \n",
            "2   2/13/2021 14:24:16  ...                                                   \n",
            "3   2/13/2021 14:54:51  ...                                                   \n",
            "4   2/13/2021 15:08:41  ...                                                   \n",
            "5   2/13/2021 15:10:44  ...                                                   \n",
            "6   2/13/2021 16:08:10  ...                                                   \n",
            "7   2/13/2021 17:04:39  ...  Mon, Wed, or Fri mornings (starting at 10AM) w...\n",
            "8   2/13/2021 17:35:36  ...                                                   \n",
            "9   2/13/2021 18:40:27  ...        thanks for your time putting this together!\n",
            "10  2/14/2021 10:12:34  ...                                                   \n",
            "\n",
            "[11 rows x 11 columns]\n"
          ],
          "name": "stdout"
        }
      ]
    },
    {
      "cell_type": "code",
      "metadata": {
        "colab": {
          "base_uri": "https://localhost:8080/"
        },
        "id": "S8DrWfq5Lwew",
        "outputId": "63bafd57-a158-4831-82ad-61277d321895"
      },
      "source": [
        "#format DataFrame and clean data\n",
        "\n",
        "#trim the header row\n",
        "new_header = df.iloc[0]\n",
        "df = df[1:]\n",
        "\n",
        "#trim column 1 (timestamp), column 2 (email), and column 10 (suggestion/comments)\n",
        "df.columns = new_header\n",
        "df = df.iloc[:,2:10]\n",
        "\n",
        "#schedule options and labels for parallel indexing (ts: time slot)\n",
        "options = [\"Monday 4-6pm\", \"Wednesday 4-6pm\", \"Friday 4-6pm\", \"Monday 12-2pm\", \"Tuesday 12-2pm\", \"Thursday 12-2pm\", \"Friday 12-2pm\", \"Tuesday 5-6pm\"]\n",
        "optionsLabel = [\"ts1\", \"ts2\", \"ts3\", \"ts4\", \"ts5\", \"ts6\", \"ts7\", \"ts8\"]\n",
        "OPTIONS_SIZE = len(options)\n",
        "\n",
        "#interate thru options, replace val for i in df\n",
        "for i,val in enumerate(options):\n",
        "  df.replace(options[i], optionsLabel[i], True)\n",
        "\n",
        "#clean up column names\n",
        "col_header = [\"1st\", \"2nd\", \"3rd\", \"4th\", \"5th\", \"6th\", \"7th\", \"8th\"]\n",
        "df.columns = col_header\n",
        "df = df.reset_index().iloc[:,1:]\n",
        "\n",
        "print(df)"
      ],
      "execution_count": 8,
      "outputs": [
        {
          "output_type": "stream",
          "text": [
            "   1st  2nd  3rd  4th  5th  6th  7th  8th\n",
            "0  ts4  ts7  ts5  ts3  ts2  ts1  ts4  ts6\n",
            "1  ts2  ts4  ts8  ts7  ts1  ts5  ts6  ts3\n",
            "2  ts3  ts1  ts2  ts3  ts1  ts2  ts3  ts1\n",
            "3  ts7  ts4  ts5  ts6  ts8  ts3  ts2  ts1\n",
            "4  ts4  ts7  ts3  ts8  ts2  ts1  ts5  ts6\n",
            "5  ts1  ts2  ts4  ts5  ts8  ts6  ts7  ts3\n",
            "6  ts1  ts2  ts2  ts1  ts1  ts1  ts1  ts1\n",
            "7  ts8  ts6  ts5  ts1  ts7  ts2  ts3  ts4\n",
            "8  ts5  ts6  ts2  ts8  ts1  ts3  ts4  ts7\n",
            "9  ts1  ts2  ts4  ts5  ts6  ts7  ts8  ts8\n"
          ],
          "name": "stdout"
        }
      ]
    },
    {
      "cell_type": "code",
      "metadata": {
        "colab": {
          "base_uri": "https://localhost:8080/"
        },
        "id": "sxIYjH_JcUL3",
        "outputId": "9d118779-6e5a-40cf-ad15-588adc98125d"
      },
      "source": [
        "#employ rcv library for ranked choice - single transferable vote \n",
        "#https://pypi.org/project/rcv/#:~:text=rcv%20is%20a%20Python%20library,the%20BSD%203%2DClause%20License.\n",
        "from rcv import FractionalSTV, PreferenceSchedule\n",
        "\n",
        "#create schedule from row data of df and calculate winners\n",
        "schedule = PreferenceSchedule.from_dataframe(df)\n",
        "stv = FractionalSTV(schedule, seats=2)\n",
        "winners = stv.elect()\n",
        "\n",
        "for i,val in enumerate(optionsLabel):\n",
        "  if val in winners:\n",
        "    print(options[i])"
      ],
      "execution_count": 14,
      "outputs": [
        {
          "output_type": "stream",
          "text": [
            "Monday 4-6pm\n",
            "Monday 12-2pm\n"
          ],
          "name": "stdout"
        }
      ]
    }
  ]
}