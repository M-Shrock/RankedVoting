{
  "nbformat": 4,
  "nbformat_minor": 0,
  "metadata": {
    "colab": {
      "name": "RankVote.ipynb",
      "provenance": [],
      "authorship_tag": "ABX9TyMpM+7UyLGa8m6XISUsHFEz",
      "include_colab_link": true
    },
    "kernelspec": {
      "name": "python3",
      "display_name": "Python 3"
    }
  },
  "cells": [
    {
      "cell_type": "markdown",
      "metadata": {
        "id": "view-in-github",
        "colab_type": "text"
      },
      "source": [
        "<a href=\"https://colab.research.google.com/github/M-Shrock/RankedVoting/blob/main/RankVote.ipynb\" target=\"_parent\"><img src=\"https://colab.research.google.com/assets/colab-badge.svg\" alt=\"Open In Colab\"/></a>"
      ]
    },
    {
      "cell_type": "code",
      "metadata": {
        "colab": {
          "base_uri": "https://localhost:8080/"
        },
        "id": "C2kxBEFR_2MX",
        "outputId": "76c8d834-d9c9-40ef-9807-7d870ac1bad8"
      },
      "source": [
        "!pip install rcv"
      ],
      "execution_count": 1,
      "outputs": [
        {
          "output_type": "stream",
          "text": [
            "Collecting rcv\n",
            "  Downloading https://files.pythonhosted.org/packages/05/97/968efce3d4d3f4436da576ccd52801e631be96bfe8041adf8ce8491607c1/rcv-0.1.2-py3-none-any.whl\n",
            "Installing collected packages: rcv\n",
            "Successfully installed rcv-0.1.2\n"
          ],
          "name": "stdout"
        }
      ]
    },
    {
      "cell_type": "code",
      "metadata": {
        "id": "MSokq4TTF7XP"
      },
      "source": [
        "#authenticate with google, import spread sheet, and create initial DataFrame\n",
        "from google.colab import auth\n",
        "auth.authenticate_user()\n",
        "\n",
        "import gspread\n",
        "from oauth2client.client import GoogleCredentials\n",
        "gc = gspread.authorize(GoogleCredentials.get_application_default())\n",
        "\n",
        "#open spread sheet producet from google form\n",
        "wb = gc.open_by_url('https://docs.google.com/spreadsheets/d/1eueZkL35Z-57CBagal3aWgMMEKyVZSfzJx6UrmfEf9M/edit#gid=1069421963')\n",
        "\n",
        "#get list of all rows in rows\n",
        "wb = wb.worksheet('Form Responses 1')\n",
        "rows = wb.get_all_values()\n",
        "\n",
        "#convert to DataFrame and render\n",
        "import pandas as pd\n",
        "df = pd.DataFrame.from_records(rows)\n",
        "\n",
        "#print(df)"
      ],
      "execution_count": 18,
      "outputs": []
    },
    {
      "cell_type": "code",
      "metadata": {
        "id": "S8DrWfq5Lwew"
      },
      "source": [
        "#format DataFrame and clean data\n",
        "\n",
        "#trim the header row\n",
        "new_header = df.iloc[0]\n",
        "df = df[1:]\n",
        "\n",
        "#trim column 1 (timestamp), column 2 (email), and column 10 (suggestion/comments)\n",
        "df.columns = new_header\n",
        "df = df.iloc[:,2:10]\n",
        "\n",
        "#schedule options and labels for parallel indexing (ts: time slot)\n",
        "options = [\"Monday 4-6pm\", \"Wednesday 4-6pm\", \"Friday 4-6pm\", \"Monday 12-2pm\", \"Tuesday 12-2pm\", \"Thursday 12-2pm\", \"Friday 12-2pm\", \"Tuesday 5-6pm\"]\n",
        "optionsLabel = [\"ts1\", \"ts2\", \"ts3\", \"ts4\", \"ts5\", \"ts6\", \"ts7\", \"ts8\"]\n",
        "OPTIONS_SIZE = len(options)\n",
        "\n",
        "#interate thru options, replace val for i in df\n",
        "for i,val in enumerate(options):\n",
        "  df.replace(options[i], optionsLabel[i], True)\n",
        "\n",
        "#clean up column names\n",
        "col_header = [\"1st\", \"2nd\", \"3rd\", \"4th\", \"5th\", \"6th\", \"7th\", \"8th\"]\n",
        "df.columns = col_header\n",
        "df = df.reset_index().iloc[:,1:]\n",
        "\n",
        "#print(df)"
      ],
      "execution_count": 19,
      "outputs": []
    },
    {
      "cell_type": "code",
      "metadata": {
        "colab": {
          "base_uri": "https://localhost:8080/"
        },
        "id": "sxIYjH_JcUL3",
        "outputId": "73b1393a-fe2f-43ae-cfe8-0639fa90d0f7"
      },
      "source": [
        "#employ rcv library for ranked choice - single transferable vote \n",
        "#https://pypi.org/project/rcv/#:~:text=rcv%20is%20a%20Python%20library,the%20BSD%203%2DClause%20License.\n",
        "from rcv import FractionalSTV, PreferenceSchedule\n",
        "\n",
        "#create schedule from row data of df and calculate winners\n",
        "schedule = PreferenceSchedule.from_dataframe(df)\n",
        "stv = FractionalSTV(schedule, seats=2)\n",
        "winners = stv.elect()\n",
        "\n",
        "for i,val in enumerate(optionsLabel):\n",
        "  if val in winners:\n",
        "    print(options[i])"
      ],
      "execution_count": 20,
      "outputs": [
        {
          "output_type": "stream",
          "text": [
            "Monday 4-6pm\n",
            "Monday 12-2pm\n"
          ],
          "name": "stdout"
        }
      ]
    }
  ]
}