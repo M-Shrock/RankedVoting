{
  "nbformat": 4,
  "nbformat_minor": 0,
  "metadata": {
    "colab": {
      "name": "RankVote.ipynb",
      "provenance": [],
      "authorship_tag": "ABX9TyMlCHmtagco7Lfsw+/iX+Ma",
      "include_colab_link": true
    },
    "kernelspec": {
      "name": "python3",
      "display_name": "Python 3"
    }
  },
  "cells": [
    {
      "cell_type": "markdown",
      "metadata": {
        "id": "view-in-github",
        "colab_type": "text"
      },
      "source": [
        "<a href=\"https://colab.research.google.com/github/M-Shrock/RankedVoting/blob/main/RankVote.ipynb\" target=\"_parent\"><img src=\"https://colab.research.google.com/assets/colab-badge.svg\" alt=\"Open In Colab\"/></a>"
      ]
    },
    {
      "cell_type": "code",
      "metadata": {
        "id": "MSokq4TTF7XP"
      },
      "source": [
        "auth.authenticate_user()\n",
        "\n",
        "import gspread\n",
        "from oauth2client.client import GoogleCredentials\n",
        "\n",
        "gc = gspread.authorize(GoogleCredentials.get_application_default())\n",
        "\n",
        "#open spread sheet producet from google form\n",
        "wb = gc.open_by_url('htpps://spreadsheeturl')\n",
        "\n",
        "#get list of all rows in rows\n",
        "wb = wb.worksheet('Form Responses 1')\n",
        "rows = wb.get_all_values()\n",
        "\n",
        "#convert to DataFrame and render\n",
        "df = pd.DataFrame.from_records(rows)"
      ],
      "execution_count": null,
      "outputs": []
    }
  ]
}